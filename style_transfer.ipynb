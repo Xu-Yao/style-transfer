{
  "nbformat": 4,
  "nbformat_minor": 0,
  "metadata": {
    "colab": {
      "name": "style-transfer.ipynb",
      "provenance": []
    },
    "kernelspec": {
      "name": "python3",
      "display_name": "Python 3"
    },
    "accelerator": "GPU"
  },
  "cells": [
    {
      "cell_type": "code",
      "metadata": {
        "id": "gxyXe2RBe9fm",
        "colab_type": "code",
        "colab": {}
      },
      "source": [
        "import torch\n",
        "import torch.nn as nn\n",
        "import torch.nn.functional as F\n",
        "import torch.optim as optim\n",
        "\n",
        "from PIL import Image\n",
        "import matplotlib.pyplot as plt\n",
        "\n",
        "import torchvision.transforms as transforms\n",
        "import torchvision.models as models\n",
        "\n",
        "import copy"
      ],
      "execution_count": 1,
      "outputs": []
    },
    {
      "cell_type": "code",
      "metadata": {
        "id": "sC_v-RnHfHeK",
        "colab_type": "code",
        "colab": {}
      },
      "source": [
        "device = torch.device(\"cuda\" if torch.cuda.is_available() else \"cpu\")"
      ],
      "execution_count": 2,
      "outputs": []
    },
    {
      "cell_type": "code",
      "metadata": {
        "id": "okYCbYKifYRN",
        "colab_type": "code",
        "colab": {}
      },
      "source": [
        "imsize = 512 if torch.cuda.is_available() else 128  # use small size if no gpu\n",
        "\n",
        "loader = transforms.Compose([\n",
        "    transforms.Resize(imsize),  # scale imported image\n",
        "    transforms.ToTensor()])  # transform it into a torch tensor\n",
        "\n",
        "\n",
        "def image_loader(image_name):\n",
        "    image = Image.open(image_name)\n",
        "    # fake batch dimension required to fit network's input dimensions\n",
        "    image = loader(image).unsqueeze(0)\n",
        "    return image.to(device, torch.float)\n",
        "\n",
        "\n",
        "style_img = image_loader(\"./data/images/neural-style/picasso.jpg\")\n",
        "content_img = image_loader(\"./data/images/neural-style/dancing.jpg\")\n",
        "\n",
        "assert style_img.size() == content_img.size(), \\\n",
        "    \"we need to import style and content images of the same size\""
      ],
      "execution_count": null,
      "outputs": []
    }
  ]
}